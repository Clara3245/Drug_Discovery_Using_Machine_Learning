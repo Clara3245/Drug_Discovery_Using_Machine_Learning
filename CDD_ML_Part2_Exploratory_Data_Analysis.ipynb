{
  "cells": [
    {
      "cell_type": "markdown",
      "metadata": {
        "colab_type": "text",
        "id": "l0Y7_lgN4jzM"
      },
      "source": [
        "# **Bioinformatics Project - Part 2 Computational Drug Discovery Exploratory Data Analysis**\n",
        "\n",
        "In this Notebook I will be performing Descriptor Calculation and Exploratory Data Analysis.\n",
        "\n",
        "---"
      ]
    },
    {
      "cell_type": "markdown",
      "metadata": {
        "colab_type": "text",
        "id": "o-4IOizard4P"
      },
      "source": [
        "## **Install conda and rdkit**"
      ]
    },
    {
      "cell_type": "markdown",
      "metadata": {},
      "source": [
        "Do not run the following code is you are running in the bioinformatics (Python 3.8.20) environment/kernel"
      ]
    },
    {
      "cell_type": "code",
      "execution_count": 1,
      "metadata": {
        "colab": {
          "base_uri": "https://localhost:8080/",
          "height": 1000
        },
        "colab_type": "code",
        "id": "H0mjQ2PcrSe5",
        "outputId": "10fb9322-6afb-4873-8c41-0e6bfbe9d0b2"
      },
      "outputs": [],
      "source": [
        "# ! wget https://repo.anaconda.com/miniconda/Miniconda3-py37_4.8.2-Linux-x86_64.sh\n",
        "# ! chmod +x Miniconda3-py37_4.8.2-Linux-x86_64.sh\n",
        "# ! bash ./Miniconda3-py37_4.8.2-Linux-x86_64.sh -b -f -p /usr/local\n",
        "# ! conda install -c rdkit rdkit -y\n",
        "# import sys\n",
        "# sys.path.append('/usr/local/lib/python3.7/site-packages/')"
      ]
    },
    {
      "cell_type": "markdown",
      "metadata": {
        "colab_type": "text",
        "id": "QmxXXFa4wTNG"
      },
      "source": [
        "## **Load bioactivity data**"
      ]
    },
    {
      "cell_type": "code",
      "execution_count": 2,
      "metadata": {},
      "outputs": [],
      "source": [
        "data_folder = \"data\"\n",
        "formatted_target_name = 'Kallikrein_1'"
      ]
    },
    {
      "cell_type": "code",
      "execution_count": 3,
      "metadata": {
        "colab": {
          "base_uri": "https://localhost:8080/",
          "height": 204
        },
        "colab_type": "code",
        "id": "4jXqIPHbaq-b",
        "outputId": "b48d881a-2603-4592-f8c6-f9d910122121"
      },
      "outputs": [],
      "source": [
        "# ! wget https://raw.githubusercontent.com/dataprofessor/data/master/acetylcholinesterase_03_bioactivity_data_curated.csv"
      ]
    },
    {
      "cell_type": "code",
      "execution_count": 4,
      "metadata": {
        "colab": {},
        "colab_type": "code",
        "id": "Fpu5C7HlwV9s"
      },
      "outputs": [],
      "source": [
        "import pandas as pd"
      ]
    },
    {
      "cell_type": "code",
      "execution_count": 5,
      "metadata": {
        "colab": {
          "base_uri": "https://localhost:8080/",
          "height": 419
        },
        "colab_type": "code",
        "id": "GCcE8J5XwjtB",
        "outputId": "40a10f00-3d5f-4835-fdf8-2cb5acd8683c"
      },
      "outputs": [
        {
          "data": {
            "text/html": [
              "<div>\n",
              "<style scoped>\n",
              "    .dataframe tbody tr th:only-of-type {\n",
              "        vertical-align: middle;\n",
              "    }\n",
              "\n",
              "    .dataframe tbody tr th {\n",
              "        vertical-align: top;\n",
              "    }\n",
              "\n",
              "    .dataframe thead th {\n",
              "        text-align: right;\n",
              "    }\n",
              "</style>\n",
              "<table border=\"1\" class=\"dataframe\">\n",
              "  <thead>\n",
              "    <tr style=\"text-align: right;\">\n",
              "      <th></th>\n",
              "      <th>molecule_chembl_id</th>\n",
              "      <th>canonical_smiles</th>\n",
              "      <th>standard_value</th>\n",
              "      <th>class</th>\n",
              "    </tr>\n",
              "  </thead>\n",
              "  <tbody>\n",
              "    <tr>\n",
              "      <th>0</th>\n",
              "      <td>CHEMBL174750</td>\n",
              "      <td>NS(=O)(=O)c1ccccc1-c1ccc(C(=O)Nc2ccccc2C(=O)Nc...</td>\n",
              "      <td>2100.0</td>\n",
              "      <td>intermediate</td>\n",
              "    </tr>\n",
              "    <tr>\n",
              "      <th>1</th>\n",
              "      <td>CHEMBL294121</td>\n",
              "      <td>CN1CCN=C1c1ccc(C(=O)N2CCN(S(=O)(=O)c3cc4cc(Cl)...</td>\n",
              "      <td>5800.0</td>\n",
              "      <td>intermediate</td>\n",
              "    </tr>\n",
              "    <tr>\n",
              "      <th>2</th>\n",
              "      <td>CHEMBL432306</td>\n",
              "      <td>N=C(N)c1cccc(OCCNC(=O)c2ccc(-c3ccccc3S(N)(=O)=...</td>\n",
              "      <td>2100.0</td>\n",
              "      <td>intermediate</td>\n",
              "    </tr>\n",
              "    <tr>\n",
              "      <th>3</th>\n",
              "      <td>CHEMBL297835</td>\n",
              "      <td>N=C(N)c1cccc(Oc2ccccc2NC(=O)c2ccc(-c3ccccc3S(N...</td>\n",
              "      <td>250.0</td>\n",
              "      <td>active</td>\n",
              "    </tr>\n",
              "    <tr>\n",
              "      <th>4</th>\n",
              "      <td>CHEMBL10378</td>\n",
              "      <td>O=c1oc(-c2ccccc2I)nc2ccccc12</td>\n",
              "      <td>9890.0</td>\n",
              "      <td>intermediate</td>\n",
              "    </tr>\n",
              "    <tr>\n",
              "      <th>...</th>\n",
              "      <td>...</td>\n",
              "      <td>...</td>\n",
              "      <td>...</td>\n",
              "      <td>...</td>\n",
              "    </tr>\n",
              "    <tr>\n",
              "      <th>332</th>\n",
              "      <td>CHEMBL3897372</td>\n",
              "      <td>Cc1cc(C)n(Cc2ccc(Cn3cc(C(=O)NCc4c(C)cc(N)nc4C)...</td>\n",
              "      <td>40000.0</td>\n",
              "      <td>inactive</td>\n",
              "    </tr>\n",
              "    <tr>\n",
              "      <th>333</th>\n",
              "      <td>CHEMBL5204354</td>\n",
              "      <td>COc1ccnc(CNC(=O)c2cn(Cc3ccc(Cn4ccccc4=O)cc3)nc...</td>\n",
              "      <td>4000.0</td>\n",
              "      <td>intermediate</td>\n",
              "    </tr>\n",
              "    <tr>\n",
              "      <th>334</th>\n",
              "      <td>CHEMBL5095064</td>\n",
              "      <td>COCc1nn(Cc2ccc(Cn3cc(F)ccc3=O)cc2)cc1C(=O)NCc1...</td>\n",
              "      <td>40000.0</td>\n",
              "      <td>inactive</td>\n",
              "    </tr>\n",
              "    <tr>\n",
              "      <th>335</th>\n",
              "      <td>CHEMBL5276515</td>\n",
              "      <td>Nc1nn(Cc2ccc(Cn3ccccc3=O)cc2)cc1C(=O)NCCOc1ccc...</td>\n",
              "      <td>2.9</td>\n",
              "      <td>active</td>\n",
              "    </tr>\n",
              "    <tr>\n",
              "      <th>336</th>\n",
              "      <td>CHEMBL5277609</td>\n",
              "      <td>CCOc1ccc(C[C@@H](NC(=O)CC)C(=O)N[C@@H](Cc2cccc...</td>\n",
              "      <td>1000.0</td>\n",
              "      <td>active</td>\n",
              "    </tr>\n",
              "  </tbody>\n",
              "</table>\n",
              "<p>337 rows × 4 columns</p>\n",
              "</div>"
            ],
            "text/plain": [
              "    molecule_chembl_id                                   canonical_smiles  \\\n",
              "0         CHEMBL174750  NS(=O)(=O)c1ccccc1-c1ccc(C(=O)Nc2ccccc2C(=O)Nc...   \n",
              "1         CHEMBL294121  CN1CCN=C1c1ccc(C(=O)N2CCN(S(=O)(=O)c3cc4cc(Cl)...   \n",
              "2         CHEMBL432306  N=C(N)c1cccc(OCCNC(=O)c2ccc(-c3ccccc3S(N)(=O)=...   \n",
              "3         CHEMBL297835  N=C(N)c1cccc(Oc2ccccc2NC(=O)c2ccc(-c3ccccc3S(N...   \n",
              "4          CHEMBL10378                       O=c1oc(-c2ccccc2I)nc2ccccc12   \n",
              "..                 ...                                                ...   \n",
              "332      CHEMBL3897372  Cc1cc(C)n(Cc2ccc(Cn3cc(C(=O)NCc4c(C)cc(N)nc4C)...   \n",
              "333      CHEMBL5204354  COc1ccnc(CNC(=O)c2cn(Cc3ccc(Cn4ccccc4=O)cc3)nc...   \n",
              "334      CHEMBL5095064  COCc1nn(Cc2ccc(Cn3cc(F)ccc3=O)cc2)cc1C(=O)NCc1...   \n",
              "335      CHEMBL5276515  Nc1nn(Cc2ccc(Cn3ccccc3=O)cc2)cc1C(=O)NCCOc1ccc...   \n",
              "336      CHEMBL5277609  CCOc1ccc(C[C@@H](NC(=O)CC)C(=O)N[C@@H](Cc2cccc...   \n",
              "\n",
              "     standard_value         class  \n",
              "0            2100.0  intermediate  \n",
              "1            5800.0  intermediate  \n",
              "2            2100.0  intermediate  \n",
              "3             250.0        active  \n",
              "4            9890.0  intermediate  \n",
              "..              ...           ...  \n",
              "332         40000.0      inactive  \n",
              "333          4000.0  intermediate  \n",
              "334         40000.0      inactive  \n",
              "335             2.9        active  \n",
              "336          1000.0        active  \n",
              "\n",
              "[337 rows x 4 columns]"
            ]
          },
          "execution_count": 5,
          "metadata": {},
          "output_type": "execute_result"
        }
      ],
      "source": [
        "df = pd.read_csv(data_folder + '/' + formatted_target_name + '_03_bioactivity_data_curated.csv')\n",
        "df"
      ]
    },
    {
      "cell_type": "code",
      "execution_count": 6,
      "metadata": {
        "colab": {},
        "colab_type": "code",
        "id": "7AMm19NW0bJR"
      },
      "outputs": [],
      "source": [
        "df_no_smiles = df.drop(columns='canonical_smiles')"
      ]
    },
    {
      "cell_type": "code",
      "execution_count": 7,
      "metadata": {
        "colab": {},
        "colab_type": "code",
        "id": "aymiQsfdr5sY"
      },
      "outputs": [],
      "source": [
        "smiles = []\n",
        "\n",
        "for i in df.canonical_smiles.tolist():\n",
        "  cpd = str(i).split('.')\n",
        "  cpd_longest = max(cpd, key = len)\n",
        "  smiles.append(cpd_longest)\n",
        "\n",
        "smiles = pd.Series(smiles, name = 'canonical_smiles')"
      ]
    },
    {
      "cell_type": "code",
      "execution_count": 8,
      "metadata": {
        "colab": {
          "base_uri": "https://localhost:8080/",
          "height": 419
        },
        "colab_type": "code",
        "id": "l7a8qW_U85ZK",
        "outputId": "9e073a51-20d4-489c-b1f7-6a44d140c22b"
      },
      "outputs": [
        {
          "data": {
            "text/html": [
              "<div>\n",
              "<style scoped>\n",
              "    .dataframe tbody tr th:only-of-type {\n",
              "        vertical-align: middle;\n",
              "    }\n",
              "\n",
              "    .dataframe tbody tr th {\n",
              "        vertical-align: top;\n",
              "    }\n",
              "\n",
              "    .dataframe thead th {\n",
              "        text-align: right;\n",
              "    }\n",
              "</style>\n",
              "<table border=\"1\" class=\"dataframe\">\n",
              "  <thead>\n",
              "    <tr style=\"text-align: right;\">\n",
              "      <th></th>\n",
              "      <th>molecule_chembl_id</th>\n",
              "      <th>standard_value</th>\n",
              "      <th>class</th>\n",
              "      <th>canonical_smiles</th>\n",
              "    </tr>\n",
              "  </thead>\n",
              "  <tbody>\n",
              "    <tr>\n",
              "      <th>0</th>\n",
              "      <td>CHEMBL174750</td>\n",
              "      <td>2100.0</td>\n",
              "      <td>intermediate</td>\n",
              "      <td>NS(=O)(=O)c1ccccc1-c1ccc(C(=O)Nc2ccccc2C(=O)Nc...</td>\n",
              "    </tr>\n",
              "    <tr>\n",
              "      <th>1</th>\n",
              "      <td>CHEMBL294121</td>\n",
              "      <td>5800.0</td>\n",
              "      <td>intermediate</td>\n",
              "      <td>CN1CCN=C1c1ccc(C(=O)N2CCN(S(=O)(=O)c3cc4cc(Cl)...</td>\n",
              "    </tr>\n",
              "    <tr>\n",
              "      <th>2</th>\n",
              "      <td>CHEMBL432306</td>\n",
              "      <td>2100.0</td>\n",
              "      <td>intermediate</td>\n",
              "      <td>N=C(N)c1cccc(OCCNC(=O)c2ccc(-c3ccccc3S(N)(=O)=...</td>\n",
              "    </tr>\n",
              "    <tr>\n",
              "      <th>3</th>\n",
              "      <td>CHEMBL297835</td>\n",
              "      <td>250.0</td>\n",
              "      <td>active</td>\n",
              "      <td>N=C(N)c1cccc(Oc2ccccc2NC(=O)c2ccc(-c3ccccc3S(N...</td>\n",
              "    </tr>\n",
              "    <tr>\n",
              "      <th>4</th>\n",
              "      <td>CHEMBL10378</td>\n",
              "      <td>9890.0</td>\n",
              "      <td>intermediate</td>\n",
              "      <td>O=c1oc(-c2ccccc2I)nc2ccccc12</td>\n",
              "    </tr>\n",
              "    <tr>\n",
              "      <th>...</th>\n",
              "      <td>...</td>\n",
              "      <td>...</td>\n",
              "      <td>...</td>\n",
              "      <td>...</td>\n",
              "    </tr>\n",
              "    <tr>\n",
              "      <th>332</th>\n",
              "      <td>CHEMBL3897372</td>\n",
              "      <td>40000.0</td>\n",
              "      <td>inactive</td>\n",
              "      <td>Cc1cc(C)n(Cc2ccc(Cn3cc(C(=O)NCc4c(C)cc(N)nc4C)...</td>\n",
              "    </tr>\n",
              "    <tr>\n",
              "      <th>333</th>\n",
              "      <td>CHEMBL5204354</td>\n",
              "      <td>4000.0</td>\n",
              "      <td>intermediate</td>\n",
              "      <td>COc1ccnc(CNC(=O)c2cn(Cc3ccc(Cn4ccccc4=O)cc3)nc...</td>\n",
              "    </tr>\n",
              "    <tr>\n",
              "      <th>334</th>\n",
              "      <td>CHEMBL5095064</td>\n",
              "      <td>40000.0</td>\n",
              "      <td>inactive</td>\n",
              "      <td>COCc1nn(Cc2ccc(Cn3cc(F)ccc3=O)cc2)cc1C(=O)NCc1...</td>\n",
              "    </tr>\n",
              "    <tr>\n",
              "      <th>335</th>\n",
              "      <td>CHEMBL5276515</td>\n",
              "      <td>2.9</td>\n",
              "      <td>active</td>\n",
              "      <td>Nc1nn(Cc2ccc(Cn3ccccc3=O)cc2)cc1C(=O)NCCOc1ccc...</td>\n",
              "    </tr>\n",
              "    <tr>\n",
              "      <th>336</th>\n",
              "      <td>CHEMBL5277609</td>\n",
              "      <td>1000.0</td>\n",
              "      <td>active</td>\n",
              "      <td>CCOc1ccc(C[C@@H](NC(=O)CC)C(=O)N[C@@H](Cc2cccc...</td>\n",
              "    </tr>\n",
              "  </tbody>\n",
              "</table>\n",
              "<p>337 rows × 4 columns</p>\n",
              "</div>"
            ],
            "text/plain": [
              "    molecule_chembl_id  standard_value         class  \\\n",
              "0         CHEMBL174750          2100.0  intermediate   \n",
              "1         CHEMBL294121          5800.0  intermediate   \n",
              "2         CHEMBL432306          2100.0  intermediate   \n",
              "3         CHEMBL297835           250.0        active   \n",
              "4          CHEMBL10378          9890.0  intermediate   \n",
              "..                 ...             ...           ...   \n",
              "332      CHEMBL3897372         40000.0      inactive   \n",
              "333      CHEMBL5204354          4000.0  intermediate   \n",
              "334      CHEMBL5095064         40000.0      inactive   \n",
              "335      CHEMBL5276515             2.9        active   \n",
              "336      CHEMBL5277609          1000.0        active   \n",
              "\n",
              "                                      canonical_smiles  \n",
              "0    NS(=O)(=O)c1ccccc1-c1ccc(C(=O)Nc2ccccc2C(=O)Nc...  \n",
              "1    CN1CCN=C1c1ccc(C(=O)N2CCN(S(=O)(=O)c3cc4cc(Cl)...  \n",
              "2    N=C(N)c1cccc(OCCNC(=O)c2ccc(-c3ccccc3S(N)(=O)=...  \n",
              "3    N=C(N)c1cccc(Oc2ccccc2NC(=O)c2ccc(-c3ccccc3S(N...  \n",
              "4                         O=c1oc(-c2ccccc2I)nc2ccccc12  \n",
              "..                                                 ...  \n",
              "332  Cc1cc(C)n(Cc2ccc(Cn3cc(C(=O)NCc4c(C)cc(N)nc4C)...  \n",
              "333  COc1ccnc(CNC(=O)c2cn(Cc3ccc(Cn4ccccc4=O)cc3)nc...  \n",
              "334  COCc1nn(Cc2ccc(Cn3cc(F)ccc3=O)cc2)cc1C(=O)NCc1...  \n",
              "335  Nc1nn(Cc2ccc(Cn3ccccc3=O)cc2)cc1C(=O)NCCOc1ccc...  \n",
              "336  CCOc1ccc(C[C@@H](NC(=O)CC)C(=O)N[C@@H](Cc2cccc...  \n",
              "\n",
              "[337 rows x 4 columns]"
            ]
          },
          "execution_count": 8,
          "metadata": {},
          "output_type": "execute_result"
        }
      ],
      "source": [
        "df_clean_smiles = pd.concat([df_no_smiles,smiles], axis=1)\n",
        "df_clean_smiles"
      ]
    },
    {
      "cell_type": "markdown",
      "metadata": {
        "colab_type": "text",
        "id": "YzN_S4Quro5S"
      },
      "source": [
        "## **Calculate Lipinski descriptors**\n",
        "Christopher Lipinski, a scientist at Pfizer, came up with a set of rule-of-thumb for evaluating the **druglikeness** of compounds. Such druglikeness is based on the Absorption, Distribution, Metabolism and Excretion (ADME) that is also known as the pharmacokinetic profile. Lipinski analyzed all orally active FDA-approved drugs in the formulation of what is to be known as the **Rule-of-Five** or **Lipinski's Rule**.\n",
        "\n",
        "The Lipinski's Rule stated the following:\n",
        "* Molecular weight < 500 Dalton\n",
        "* Octanol-water partition coefficient (LogP) < 5\n",
        "* Hydrogen bond donors < 5\n",
        "* Hydrogen bond acceptors < 10 "
      ]
    },
    {
      "cell_type": "markdown",
      "metadata": {
        "colab_type": "text",
        "id": "9qn_eQcnxY7C"
      },
      "source": [
        "### **Import libraries**"
      ]
    },
    {
      "cell_type": "code",
      "execution_count": 9,
      "metadata": {
        "colab": {},
        "colab_type": "code",
        "id": "CgBjIdT-rnRU"
      },
      "outputs": [],
      "source": [
        "import numpy as np\n",
        "from rdkit import Chem\n",
        "from rdkit.Chem import Descriptors, Lipinski"
      ]
    },
    {
      "cell_type": "markdown",
      "metadata": {
        "colab_type": "text",
        "id": "JsgTV-ByxdMa"
      },
      "source": [
        "### **Calculate descriptors**"
      ]
    },
    {
      "cell_type": "code",
      "execution_count": 10,
      "metadata": {
        "colab": {},
        "colab_type": "code",
        "id": "bCXEY7a9ugO_"
      },
      "outputs": [],
      "source": [
        "# Inspired by: https://codeocean.com/explore/capsules?query=tag:data-curation\n",
        "\n",
        "def lipinski(smiles, verbose=False):\n",
        "\n",
        "    moldata= []\n",
        "    for elem in smiles:\n",
        "        mol=Chem.MolFromSmiles(elem) \n",
        "        moldata.append(mol)\n",
        "       \n",
        "    baseData= np.arange(1,1)\n",
        "    i=0  \n",
        "    for mol in moldata:        \n",
        "       \n",
        "        desc_MolWt = Descriptors.MolWt(mol)\n",
        "        desc_MolLogP = Descriptors.MolLogP(mol)\n",
        "        desc_NumHDonors = Lipinski.NumHDonors(mol)\n",
        "        desc_NumHAcceptors = Lipinski.NumHAcceptors(mol)\n",
        "           \n",
        "        row = np.array([desc_MolWt,\n",
        "                        desc_MolLogP,\n",
        "                        desc_NumHDonors,\n",
        "                        desc_NumHAcceptors])   \n",
        "    \n",
        "        if(i==0):\n",
        "            baseData=row\n",
        "        else:\n",
        "            baseData=np.vstack([baseData, row])\n",
        "        i=i+1      \n",
        "    \n",
        "    columnNames=[\"MW\",\"LogP\",\"NumHDonors\",\"NumHAcceptors\"]   \n",
        "    descriptors = pd.DataFrame(data=baseData,columns=columnNames)\n",
        "    \n",
        "    return descriptors"
      ]
    },
    {
      "cell_type": "code",
      "execution_count": 11,
      "metadata": {
        "colab": {
          "base_uri": "https://localhost:8080/",
          "height": 419
        },
        "colab_type": "code",
        "id": "ThFIFw8IukMY",
        "outputId": "574c050c-44f1-43be-bf6c-bf973d8d0675"
      },
      "outputs": [
        {
          "data": {
            "text/html": [
              "<div>\n",
              "<style scoped>\n",
              "    .dataframe tbody tr th:only-of-type {\n",
              "        vertical-align: middle;\n",
              "    }\n",
              "\n",
              "    .dataframe tbody tr th {\n",
              "        vertical-align: top;\n",
              "    }\n",
              "\n",
              "    .dataframe thead th {\n",
              "        text-align: right;\n",
              "    }\n",
              "</style>\n",
              "<table border=\"1\" class=\"dataframe\">\n",
              "  <thead>\n",
              "    <tr style=\"text-align: right;\">\n",
              "      <th></th>\n",
              "      <th>MW</th>\n",
              "      <th>LogP</th>\n",
              "      <th>NumHDonors</th>\n",
              "      <th>NumHAcceptors</th>\n",
              "    </tr>\n",
              "  </thead>\n",
              "  <tbody>\n",
              "    <tr>\n",
              "      <th>0</th>\n",
              "      <td>551.422</td>\n",
              "      <td>4.66310</td>\n",
              "      <td>3.0</td>\n",
              "      <td>5.0</td>\n",
              "    </tr>\n",
              "    <tr>\n",
              "      <th>1</th>\n",
              "      <td>485.997</td>\n",
              "      <td>2.66000</td>\n",
              "      <td>1.0</td>\n",
              "      <td>5.0</td>\n",
              "    </tr>\n",
              "    <tr>\n",
              "      <th>2</th>\n",
              "      <td>438.509</td>\n",
              "      <td>2.09387</td>\n",
              "      <td>4.0</td>\n",
              "      <td>5.0</td>\n",
              "    </tr>\n",
              "    <tr>\n",
              "      <th>3</th>\n",
              "      <td>486.553</td>\n",
              "      <td>4.32967</td>\n",
              "      <td>4.0</td>\n",
              "      <td>5.0</td>\n",
              "    </tr>\n",
              "    <tr>\n",
              "      <th>4</th>\n",
              "      <td>349.127</td>\n",
              "      <td>3.45960</td>\n",
              "      <td>0.0</td>\n",
              "      <td>3.0</td>\n",
              "    </tr>\n",
              "    <tr>\n",
              "      <th>...</th>\n",
              "      <td>...</td>\n",
              "      <td>...</td>\n",
              "      <td>...</td>\n",
              "      <td>...</td>\n",
              "    </tr>\n",
              "    <tr>\n",
              "      <th>332</th>\n",
              "      <td>444.543</td>\n",
              "      <td>2.71208</td>\n",
              "      <td>2.0</td>\n",
              "      <td>8.0</td>\n",
              "    </tr>\n",
              "    <tr>\n",
              "      <th>333</th>\n",
              "      <td>515.467</td>\n",
              "      <td>3.63290</td>\n",
              "      <td>1.0</td>\n",
              "      <td>7.0</td>\n",
              "    </tr>\n",
              "    <tr>\n",
              "      <th>334</th>\n",
              "      <td>509.513</td>\n",
              "      <td>2.89960</td>\n",
              "      <td>1.0</td>\n",
              "      <td>8.0</td>\n",
              "    </tr>\n",
              "    <tr>\n",
              "      <th>335</th>\n",
              "      <td>477.952</td>\n",
              "      <td>3.18580</td>\n",
              "      <td>2.0</td>\n",
              "      <td>7.0</td>\n",
              "    </tr>\n",
              "    <tr>\n",
              "      <th>336</th>\n",
              "      <td>530.669</td>\n",
              "      <td>3.02520</td>\n",
              "      <td>4.0</td>\n",
              "      <td>5.0</td>\n",
              "    </tr>\n",
              "  </tbody>\n",
              "</table>\n",
              "<p>337 rows × 4 columns</p>\n",
              "</div>"
            ],
            "text/plain": [
              "          MW     LogP  NumHDonors  NumHAcceptors\n",
              "0    551.422  4.66310         3.0            5.0\n",
              "1    485.997  2.66000         1.0            5.0\n",
              "2    438.509  2.09387         4.0            5.0\n",
              "3    486.553  4.32967         4.0            5.0\n",
              "4    349.127  3.45960         0.0            3.0\n",
              "..       ...      ...         ...            ...\n",
              "332  444.543  2.71208         2.0            8.0\n",
              "333  515.467  3.63290         1.0            7.0\n",
              "334  509.513  2.89960         1.0            8.0\n",
              "335  477.952  3.18580         2.0            7.0\n",
              "336  530.669  3.02520         4.0            5.0\n",
              "\n",
              "[337 rows x 4 columns]"
            ]
          },
          "execution_count": 11,
          "metadata": {},
          "output_type": "execute_result"
        }
      ],
      "source": [
        "df_lipinski = lipinski(df_clean_smiles.canonical_smiles)\n",
        "df_lipinski"
      ]
    },
    {
      "cell_type": "markdown",
      "metadata": {
        "colab_type": "text",
        "id": "gUMlPfFrxicj"
      },
      "source": [
        "### **Combine DataFrames**"
      ]
    },
    {
      "cell_type": "code",
      "execution_count": 12,
      "metadata": {
        "colab": {},
        "colab_type": "code",
        "id": "L9nUZC0Ww3gp"
      },
      "outputs": [
        {
          "data": {
            "text/html": [
              "<div>\n",
              "<style scoped>\n",
              "    .dataframe tbody tr th:only-of-type {\n",
              "        vertical-align: middle;\n",
              "    }\n",
              "\n",
              "    .dataframe tbody tr th {\n",
              "        vertical-align: top;\n",
              "    }\n",
              "\n",
              "    .dataframe thead th {\n",
              "        text-align: right;\n",
              "    }\n",
              "</style>\n",
              "<table border=\"1\" class=\"dataframe\">\n",
              "  <thead>\n",
              "    <tr style=\"text-align: right;\">\n",
              "      <th></th>\n",
              "      <th>molecule_chembl_id</th>\n",
              "      <th>canonical_smiles</th>\n",
              "      <th>standard_value</th>\n",
              "      <th>class</th>\n",
              "      <th>MW</th>\n",
              "      <th>LogP</th>\n",
              "      <th>NumHDonors</th>\n",
              "      <th>NumHAcceptors</th>\n",
              "    </tr>\n",
              "  </thead>\n",
              "  <tbody>\n",
              "    <tr>\n",
              "      <th>0</th>\n",
              "      <td>CHEMBL174750</td>\n",
              "      <td>NS(=O)(=O)c1ccccc1-c1ccc(C(=O)Nc2ccccc2C(=O)Nc...</td>\n",
              "      <td>2100.0</td>\n",
              "      <td>intermediate</td>\n",
              "      <td>551.422</td>\n",
              "      <td>4.66310</td>\n",
              "      <td>3.0</td>\n",
              "      <td>5.0</td>\n",
              "    </tr>\n",
              "    <tr>\n",
              "      <th>1</th>\n",
              "      <td>CHEMBL294121</td>\n",
              "      <td>CN1CCN=C1c1ccc(C(=O)N2CCN(S(=O)(=O)c3cc4cc(Cl)...</td>\n",
              "      <td>5800.0</td>\n",
              "      <td>intermediate</td>\n",
              "      <td>485.997</td>\n",
              "      <td>2.66000</td>\n",
              "      <td>1.0</td>\n",
              "      <td>5.0</td>\n",
              "    </tr>\n",
              "    <tr>\n",
              "      <th>2</th>\n",
              "      <td>CHEMBL432306</td>\n",
              "      <td>N=C(N)c1cccc(OCCNC(=O)c2ccc(-c3ccccc3S(N)(=O)=...</td>\n",
              "      <td>2100.0</td>\n",
              "      <td>intermediate</td>\n",
              "      <td>438.509</td>\n",
              "      <td>2.09387</td>\n",
              "      <td>4.0</td>\n",
              "      <td>5.0</td>\n",
              "    </tr>\n",
              "    <tr>\n",
              "      <th>3</th>\n",
              "      <td>CHEMBL297835</td>\n",
              "      <td>N=C(N)c1cccc(Oc2ccccc2NC(=O)c2ccc(-c3ccccc3S(N...</td>\n",
              "      <td>250.0</td>\n",
              "      <td>active</td>\n",
              "      <td>486.553</td>\n",
              "      <td>4.32967</td>\n",
              "      <td>4.0</td>\n",
              "      <td>5.0</td>\n",
              "    </tr>\n",
              "    <tr>\n",
              "      <th>4</th>\n",
              "      <td>CHEMBL10378</td>\n",
              "      <td>O=c1oc(-c2ccccc2I)nc2ccccc12</td>\n",
              "      <td>9890.0</td>\n",
              "      <td>intermediate</td>\n",
              "      <td>349.127</td>\n",
              "      <td>3.45960</td>\n",
              "      <td>0.0</td>\n",
              "      <td>3.0</td>\n",
              "    </tr>\n",
              "    <tr>\n",
              "      <th>...</th>\n",
              "      <td>...</td>\n",
              "      <td>...</td>\n",
              "      <td>...</td>\n",
              "      <td>...</td>\n",
              "      <td>...</td>\n",
              "      <td>...</td>\n",
              "      <td>...</td>\n",
              "      <td>...</td>\n",
              "    </tr>\n",
              "    <tr>\n",
              "      <th>332</th>\n",
              "      <td>CHEMBL3897372</td>\n",
              "      <td>Cc1cc(C)n(Cc2ccc(Cn3cc(C(=O)NCc4c(C)cc(N)nc4C)...</td>\n",
              "      <td>40000.0</td>\n",
              "      <td>inactive</td>\n",
              "      <td>444.543</td>\n",
              "      <td>2.71208</td>\n",
              "      <td>2.0</td>\n",
              "      <td>8.0</td>\n",
              "    </tr>\n",
              "    <tr>\n",
              "      <th>333</th>\n",
              "      <td>CHEMBL5204354</td>\n",
              "      <td>COc1ccnc(CNC(=O)c2cn(Cc3ccc(Cn4ccccc4=O)cc3)nc...</td>\n",
              "      <td>4000.0</td>\n",
              "      <td>intermediate</td>\n",
              "      <td>515.467</td>\n",
              "      <td>3.63290</td>\n",
              "      <td>1.0</td>\n",
              "      <td>7.0</td>\n",
              "    </tr>\n",
              "    <tr>\n",
              "      <th>334</th>\n",
              "      <td>CHEMBL5095064</td>\n",
              "      <td>COCc1nn(Cc2ccc(Cn3cc(F)ccc3=O)cc2)cc1C(=O)NCc1...</td>\n",
              "      <td>40000.0</td>\n",
              "      <td>inactive</td>\n",
              "      <td>509.513</td>\n",
              "      <td>2.89960</td>\n",
              "      <td>1.0</td>\n",
              "      <td>8.0</td>\n",
              "    </tr>\n",
              "    <tr>\n",
              "      <th>335</th>\n",
              "      <td>CHEMBL5276515</td>\n",
              "      <td>Nc1nn(Cc2ccc(Cn3ccccc3=O)cc2)cc1C(=O)NCCOc1ccc...</td>\n",
              "      <td>2.9</td>\n",
              "      <td>active</td>\n",
              "      <td>477.952</td>\n",
              "      <td>3.18580</td>\n",
              "      <td>2.0</td>\n",
              "      <td>7.0</td>\n",
              "    </tr>\n",
              "    <tr>\n",
              "      <th>336</th>\n",
              "      <td>CHEMBL5277609</td>\n",
              "      <td>CCOc1ccc(C[C@@H](NC(=O)CC)C(=O)N[C@@H](Cc2cccc...</td>\n",
              "      <td>1000.0</td>\n",
              "      <td>active</td>\n",
              "      <td>530.669</td>\n",
              "      <td>3.02520</td>\n",
              "      <td>4.0</td>\n",
              "      <td>5.0</td>\n",
              "    </tr>\n",
              "  </tbody>\n",
              "</table>\n",
              "<p>337 rows × 8 columns</p>\n",
              "</div>"
            ],
            "text/plain": [
              "    molecule_chembl_id                                   canonical_smiles  \\\n",
              "0         CHEMBL174750  NS(=O)(=O)c1ccccc1-c1ccc(C(=O)Nc2ccccc2C(=O)Nc...   \n",
              "1         CHEMBL294121  CN1CCN=C1c1ccc(C(=O)N2CCN(S(=O)(=O)c3cc4cc(Cl)...   \n",
              "2         CHEMBL432306  N=C(N)c1cccc(OCCNC(=O)c2ccc(-c3ccccc3S(N)(=O)=...   \n",
              "3         CHEMBL297835  N=C(N)c1cccc(Oc2ccccc2NC(=O)c2ccc(-c3ccccc3S(N...   \n",
              "4          CHEMBL10378                       O=c1oc(-c2ccccc2I)nc2ccccc12   \n",
              "..                 ...                                                ...   \n",
              "332      CHEMBL3897372  Cc1cc(C)n(Cc2ccc(Cn3cc(C(=O)NCc4c(C)cc(N)nc4C)...   \n",
              "333      CHEMBL5204354  COc1ccnc(CNC(=O)c2cn(Cc3ccc(Cn4ccccc4=O)cc3)nc...   \n",
              "334      CHEMBL5095064  COCc1nn(Cc2ccc(Cn3cc(F)ccc3=O)cc2)cc1C(=O)NCc1...   \n",
              "335      CHEMBL5276515  Nc1nn(Cc2ccc(Cn3ccccc3=O)cc2)cc1C(=O)NCCOc1ccc...   \n",
              "336      CHEMBL5277609  CCOc1ccc(C[C@@H](NC(=O)CC)C(=O)N[C@@H](Cc2cccc...   \n",
              "\n",
              "     standard_value         class       MW     LogP  NumHDonors  NumHAcceptors  \n",
              "0            2100.0  intermediate  551.422  4.66310         3.0            5.0  \n",
              "1            5800.0  intermediate  485.997  2.66000         1.0            5.0  \n",
              "2            2100.0  intermediate  438.509  2.09387         4.0            5.0  \n",
              "3             250.0        active  486.553  4.32967         4.0            5.0  \n",
              "4            9890.0  intermediate  349.127  3.45960         0.0            3.0  \n",
              "..              ...           ...      ...      ...         ...            ...  \n",
              "332         40000.0      inactive  444.543  2.71208         2.0            8.0  \n",
              "333          4000.0  intermediate  515.467  3.63290         1.0            7.0  \n",
              "334         40000.0      inactive  509.513  2.89960         1.0            8.0  \n",
              "335             2.9        active  477.952  3.18580         2.0            7.0  \n",
              "336          1000.0        active  530.669  3.02520         4.0            5.0  \n",
              "\n",
              "[337 rows x 8 columns]"
            ]
          },
          "execution_count": 12,
          "metadata": {},
          "output_type": "execute_result"
        }
      ],
      "source": [
        "df_combined = pd.concat([df,df_lipinski], axis=1)\n",
        "df_combined"
      ]
    },
    {
      "cell_type": "markdown",
      "metadata": {
        "colab_type": "text",
        "id": "e0MLOedB6j96"
      },
      "source": [
        "### **Convert IC50 to pIC50**\n",
        "To allow **IC50** data to be more uniformly distributed, we will convert **IC50** to the negative logarithmic scale which is essentially **-log10(IC50)**.\n",
        "\n",
        "This custom function pIC50() will accept a DataFrame as input and will:\n",
        "* Take the IC50 values from the ``standard_value`` column and converts it from nM to M by multiplying the value by 10$^{-9}$\n",
        "* Take the molar value and apply -log10\n",
        "* Delete the ``standard_value`` column and create a new ``pIC50`` column"
      ]
    },
    {
      "cell_type": "code",
      "execution_count": 13,
      "metadata": {
        "colab": {},
        "colab_type": "code",
        "id": "UXMuFQoQ4pZF"
      },
      "outputs": [],
      "source": [
        "# https://github.com/chaninlab/estrogen-receptor-alpha-qsar/blob/master/02_ER_alpha_RO5.ipynb\n",
        "\n",
        "import numpy as np\n",
        "\n",
        "def pIC50(input):\n",
        "    pIC50 = []\n",
        "\n",
        "    for i in input['standard_value_norm']:\n",
        "        molar = i*(10**-9) # Converts nM to M\n",
        "        pIC50.append(-np.log10(molar))\n",
        "\n",
        "    input['pIC50'] = pIC50\n",
        "    x = input.drop('standard_value_norm', axis = 1)\n",
        "        \n",
        "    return x"
      ]
    },
    {
      "cell_type": "markdown",
      "metadata": {
        "colab_type": "text",
        "id": "WU5Fh1h2OaJJ"
      },
      "source": [
        "Point to note: Values greater than 100,000,000 will be fixed at 100,000,000 otherwise the negative logarithmic value will become negative."
      ]
    },
    {
      "cell_type": "code",
      "execution_count": 14,
      "metadata": {
        "colab": {
          "base_uri": "https://localhost:8080/",
          "height": 170
        },
        "colab_type": "code",
        "id": "QuUTFUpcR1wU",
        "outputId": "3e3fe22d-8587-42e3-c92e-396d37877589"
      },
      "outputs": [
        {
          "data": {
            "text/plain": [
              "count       337.000000\n",
              "mean      24961.738902\n",
              "std       70017.632794\n",
              "min           2.900000\n",
              "25%        8400.000000\n",
              "50%       10000.000000\n",
              "75%       11000.000000\n",
              "max      630957.340000\n",
              "Name: standard_value, dtype: float64"
            ]
          },
          "execution_count": 14,
          "metadata": {},
          "output_type": "execute_result"
        }
      ],
      "source": [
        "df_combined.standard_value.describe()"
      ]
    },
    {
      "cell_type": "code",
      "execution_count": 15,
      "metadata": {
        "colab": {
          "base_uri": "https://localhost:8080/",
          "height": 34
        },
        "colab_type": "code",
        "id": "QyiJ0to5N6Z_",
        "outputId": "58b38ec2-8f7d-4f44-cc35-1ef394f57854"
      },
      "outputs": [
        {
          "data": {
            "text/plain": [
              "np.float64(1.0)"
            ]
          },
          "execution_count": 15,
          "metadata": {},
          "output_type": "execute_result"
        }
      ],
      "source": [
        "-np.log10( (10**-9)* 100000000 )"
      ]
    },
    {
      "cell_type": "code",
      "execution_count": 16,
      "metadata": {
        "colab": {
          "base_uri": "https://localhost:8080/",
          "height": 34
        },
        "colab_type": "code",
        "id": "9S1aJkOYOP6K",
        "outputId": "0d9c6937-7c36-4844-f84b-9a95a22802dc"
      },
      "outputs": [
        {
          "data": {
            "text/plain": [
              "np.float64(-1.0)"
            ]
          },
          "execution_count": 16,
          "metadata": {},
          "output_type": "execute_result"
        }
      ],
      "source": [
        "-np.log10( (10**-9)* 10000000000 )"
      ]
    },
    {
      "cell_type": "code",
      "execution_count": 17,
      "metadata": {
        "colab": {},
        "colab_type": "code",
        "id": "iktHDDwtPDwl"
      },
      "outputs": [],
      "source": [
        "def norm_value(input):\n",
        "    norm = []\n",
        "\n",
        "    for i in input['standard_value']:\n",
        "        if i > 100000000:\n",
        "          i = 100000000\n",
        "        norm.append(i)\n",
        "\n",
        "    input['standard_value_norm'] = norm\n",
        "    x = input.drop('standard_value', axis = 1)\n",
        "        \n",
        "    return x"
      ]
    },
    {
      "cell_type": "markdown",
      "metadata": {
        "colab_type": "text",
        "id": "EkrTs7RfPsrH"
      },
      "source": [
        "We will first apply the norm_value() function so that the values in the standard_value column is normalized."
      ]
    },
    {
      "cell_type": "code",
      "execution_count": 18,
      "metadata": {
        "colab": {
          "base_uri": "https://localhost:8080/",
          "height": 419
        },
        "colab_type": "code",
        "id": "EX2Mj2-ZP1Rj",
        "outputId": "8e07791e-d693-4d1b-9f82-f396d34c6338"
      },
      "outputs": [
        {
          "data": {
            "text/html": [
              "<div>\n",
              "<style scoped>\n",
              "    .dataframe tbody tr th:only-of-type {\n",
              "        vertical-align: middle;\n",
              "    }\n",
              "\n",
              "    .dataframe tbody tr th {\n",
              "        vertical-align: top;\n",
              "    }\n",
              "\n",
              "    .dataframe thead th {\n",
              "        text-align: right;\n",
              "    }\n",
              "</style>\n",
              "<table border=\"1\" class=\"dataframe\">\n",
              "  <thead>\n",
              "    <tr style=\"text-align: right;\">\n",
              "      <th></th>\n",
              "      <th>molecule_chembl_id</th>\n",
              "      <th>canonical_smiles</th>\n",
              "      <th>class</th>\n",
              "      <th>MW</th>\n",
              "      <th>LogP</th>\n",
              "      <th>NumHDonors</th>\n",
              "      <th>NumHAcceptors</th>\n",
              "      <th>standard_value_norm</th>\n",
              "    </tr>\n",
              "  </thead>\n",
              "  <tbody>\n",
              "    <tr>\n",
              "      <th>0</th>\n",
              "      <td>CHEMBL174750</td>\n",
              "      <td>NS(=O)(=O)c1ccccc1-c1ccc(C(=O)Nc2ccccc2C(=O)Nc...</td>\n",
              "      <td>intermediate</td>\n",
              "      <td>551.422</td>\n",
              "      <td>4.66310</td>\n",
              "      <td>3.0</td>\n",
              "      <td>5.0</td>\n",
              "      <td>2100.0</td>\n",
              "    </tr>\n",
              "    <tr>\n",
              "      <th>1</th>\n",
              "      <td>CHEMBL294121</td>\n",
              "      <td>CN1CCN=C1c1ccc(C(=O)N2CCN(S(=O)(=O)c3cc4cc(Cl)...</td>\n",
              "      <td>intermediate</td>\n",
              "      <td>485.997</td>\n",
              "      <td>2.66000</td>\n",
              "      <td>1.0</td>\n",
              "      <td>5.0</td>\n",
              "      <td>5800.0</td>\n",
              "    </tr>\n",
              "    <tr>\n",
              "      <th>2</th>\n",
              "      <td>CHEMBL432306</td>\n",
              "      <td>N=C(N)c1cccc(OCCNC(=O)c2ccc(-c3ccccc3S(N)(=O)=...</td>\n",
              "      <td>intermediate</td>\n",
              "      <td>438.509</td>\n",
              "      <td>2.09387</td>\n",
              "      <td>4.0</td>\n",
              "      <td>5.0</td>\n",
              "      <td>2100.0</td>\n",
              "    </tr>\n",
              "    <tr>\n",
              "      <th>3</th>\n",
              "      <td>CHEMBL297835</td>\n",
              "      <td>N=C(N)c1cccc(Oc2ccccc2NC(=O)c2ccc(-c3ccccc3S(N...</td>\n",
              "      <td>active</td>\n",
              "      <td>486.553</td>\n",
              "      <td>4.32967</td>\n",
              "      <td>4.0</td>\n",
              "      <td>5.0</td>\n",
              "      <td>250.0</td>\n",
              "    </tr>\n",
              "    <tr>\n",
              "      <th>4</th>\n",
              "      <td>CHEMBL10378</td>\n",
              "      <td>O=c1oc(-c2ccccc2I)nc2ccccc12</td>\n",
              "      <td>intermediate</td>\n",
              "      <td>349.127</td>\n",
              "      <td>3.45960</td>\n",
              "      <td>0.0</td>\n",
              "      <td>3.0</td>\n",
              "      <td>9890.0</td>\n",
              "    </tr>\n",
              "    <tr>\n",
              "      <th>...</th>\n",
              "      <td>...</td>\n",
              "      <td>...</td>\n",
              "      <td>...</td>\n",
              "      <td>...</td>\n",
              "      <td>...</td>\n",
              "      <td>...</td>\n",
              "      <td>...</td>\n",
              "      <td>...</td>\n",
              "    </tr>\n",
              "    <tr>\n",
              "      <th>332</th>\n",
              "      <td>CHEMBL3897372</td>\n",
              "      <td>Cc1cc(C)n(Cc2ccc(Cn3cc(C(=O)NCc4c(C)cc(N)nc4C)...</td>\n",
              "      <td>inactive</td>\n",
              "      <td>444.543</td>\n",
              "      <td>2.71208</td>\n",
              "      <td>2.0</td>\n",
              "      <td>8.0</td>\n",
              "      <td>40000.0</td>\n",
              "    </tr>\n",
              "    <tr>\n",
              "      <th>333</th>\n",
              "      <td>CHEMBL5204354</td>\n",
              "      <td>COc1ccnc(CNC(=O)c2cn(Cc3ccc(Cn4ccccc4=O)cc3)nc...</td>\n",
              "      <td>intermediate</td>\n",
              "      <td>515.467</td>\n",
              "      <td>3.63290</td>\n",
              "      <td>1.0</td>\n",
              "      <td>7.0</td>\n",
              "      <td>4000.0</td>\n",
              "    </tr>\n",
              "    <tr>\n",
              "      <th>334</th>\n",
              "      <td>CHEMBL5095064</td>\n",
              "      <td>COCc1nn(Cc2ccc(Cn3cc(F)ccc3=O)cc2)cc1C(=O)NCc1...</td>\n",
              "      <td>inactive</td>\n",
              "      <td>509.513</td>\n",
              "      <td>2.89960</td>\n",
              "      <td>1.0</td>\n",
              "      <td>8.0</td>\n",
              "      <td>40000.0</td>\n",
              "    </tr>\n",
              "    <tr>\n",
              "      <th>335</th>\n",
              "      <td>CHEMBL5276515</td>\n",
              "      <td>Nc1nn(Cc2ccc(Cn3ccccc3=O)cc2)cc1C(=O)NCCOc1ccc...</td>\n",
              "      <td>active</td>\n",
              "      <td>477.952</td>\n",
              "      <td>3.18580</td>\n",
              "      <td>2.0</td>\n",
              "      <td>7.0</td>\n",
              "      <td>2.9</td>\n",
              "    </tr>\n",
              "    <tr>\n",
              "      <th>336</th>\n",
              "      <td>CHEMBL5277609</td>\n",
              "      <td>CCOc1ccc(C[C@@H](NC(=O)CC)C(=O)N[C@@H](Cc2cccc...</td>\n",
              "      <td>active</td>\n",
              "      <td>530.669</td>\n",
              "      <td>3.02520</td>\n",
              "      <td>4.0</td>\n",
              "      <td>5.0</td>\n",
              "      <td>1000.0</td>\n",
              "    </tr>\n",
              "  </tbody>\n",
              "</table>\n",
              "<p>337 rows × 8 columns</p>\n",
              "</div>"
            ],
            "text/plain": [
              "    molecule_chembl_id                                   canonical_smiles  \\\n",
              "0         CHEMBL174750  NS(=O)(=O)c1ccccc1-c1ccc(C(=O)Nc2ccccc2C(=O)Nc...   \n",
              "1         CHEMBL294121  CN1CCN=C1c1ccc(C(=O)N2CCN(S(=O)(=O)c3cc4cc(Cl)...   \n",
              "2         CHEMBL432306  N=C(N)c1cccc(OCCNC(=O)c2ccc(-c3ccccc3S(N)(=O)=...   \n",
              "3         CHEMBL297835  N=C(N)c1cccc(Oc2ccccc2NC(=O)c2ccc(-c3ccccc3S(N...   \n",
              "4          CHEMBL10378                       O=c1oc(-c2ccccc2I)nc2ccccc12   \n",
              "..                 ...                                                ...   \n",
              "332      CHEMBL3897372  Cc1cc(C)n(Cc2ccc(Cn3cc(C(=O)NCc4c(C)cc(N)nc4C)...   \n",
              "333      CHEMBL5204354  COc1ccnc(CNC(=O)c2cn(Cc3ccc(Cn4ccccc4=O)cc3)nc...   \n",
              "334      CHEMBL5095064  COCc1nn(Cc2ccc(Cn3cc(F)ccc3=O)cc2)cc1C(=O)NCc1...   \n",
              "335      CHEMBL5276515  Nc1nn(Cc2ccc(Cn3ccccc3=O)cc2)cc1C(=O)NCCOc1ccc...   \n",
              "336      CHEMBL5277609  CCOc1ccc(C[C@@H](NC(=O)CC)C(=O)N[C@@H](Cc2cccc...   \n",
              "\n",
              "            class       MW     LogP  NumHDonors  NumHAcceptors  \\\n",
              "0    intermediate  551.422  4.66310         3.0            5.0   \n",
              "1    intermediate  485.997  2.66000         1.0            5.0   \n",
              "2    intermediate  438.509  2.09387         4.0            5.0   \n",
              "3          active  486.553  4.32967         4.0            5.0   \n",
              "4    intermediate  349.127  3.45960         0.0            3.0   \n",
              "..            ...      ...      ...         ...            ...   \n",
              "332      inactive  444.543  2.71208         2.0            8.0   \n",
              "333  intermediate  515.467  3.63290         1.0            7.0   \n",
              "334      inactive  509.513  2.89960         1.0            8.0   \n",
              "335        active  477.952  3.18580         2.0            7.0   \n",
              "336        active  530.669  3.02520         4.0            5.0   \n",
              "\n",
              "     standard_value_norm  \n",
              "0                 2100.0  \n",
              "1                 5800.0  \n",
              "2                 2100.0  \n",
              "3                  250.0  \n",
              "4                 9890.0  \n",
              "..                   ...  \n",
              "332              40000.0  \n",
              "333               4000.0  \n",
              "334              40000.0  \n",
              "335                  2.9  \n",
              "336               1000.0  \n",
              "\n",
              "[337 rows x 8 columns]"
            ]
          },
          "execution_count": 18,
          "metadata": {},
          "output_type": "execute_result"
        }
      ],
      "source": [
        "df_norm = norm_value(df_combined)\n",
        "df_norm"
      ]
    },
    {
      "cell_type": "code",
      "execution_count": 19,
      "metadata": {
        "colab": {
          "base_uri": "https://localhost:8080/",
          "height": 170
        },
        "colab_type": "code",
        "id": "hb1eKrIjRiH9",
        "outputId": "8435d28b-9774-4567-8134-51bfc3fc8271"
      },
      "outputs": [
        {
          "data": {
            "text/plain": [
              "count       337.000000\n",
              "mean      24961.738902\n",
              "std       70017.632794\n",
              "min           2.900000\n",
              "25%        8400.000000\n",
              "50%       10000.000000\n",
              "75%       11000.000000\n",
              "max      630957.340000\n",
              "Name: standard_value_norm, dtype: float64"
            ]
          },
          "execution_count": 19,
          "metadata": {},
          "output_type": "execute_result"
        }
      ],
      "source": [
        "df_norm.standard_value_norm.describe()"
      ]
    },
    {
      "cell_type": "code",
      "execution_count": 20,
      "metadata": {
        "colab": {
          "base_uri": "https://localhost:8080/",
          "height": 419
        },
        "colab_type": "code",
        "id": "UDKZzmK57YnS",
        "outputId": "89ec9de3-c71e-44fb-86a5-3b4172cf9e63"
      },
      "outputs": [
        {
          "data": {
            "text/html": [
              "<div>\n",
              "<style scoped>\n",
              "    .dataframe tbody tr th:only-of-type {\n",
              "        vertical-align: middle;\n",
              "    }\n",
              "\n",
              "    .dataframe tbody tr th {\n",
              "        vertical-align: top;\n",
              "    }\n",
              "\n",
              "    .dataframe thead th {\n",
              "        text-align: right;\n",
              "    }\n",
              "</style>\n",
              "<table border=\"1\" class=\"dataframe\">\n",
              "  <thead>\n",
              "    <tr style=\"text-align: right;\">\n",
              "      <th></th>\n",
              "      <th>molecule_chembl_id</th>\n",
              "      <th>canonical_smiles</th>\n",
              "      <th>class</th>\n",
              "      <th>MW</th>\n",
              "      <th>LogP</th>\n",
              "      <th>NumHDonors</th>\n",
              "      <th>NumHAcceptors</th>\n",
              "      <th>pIC50</th>\n",
              "    </tr>\n",
              "  </thead>\n",
              "  <tbody>\n",
              "    <tr>\n",
              "      <th>0</th>\n",
              "      <td>CHEMBL174750</td>\n",
              "      <td>NS(=O)(=O)c1ccccc1-c1ccc(C(=O)Nc2ccccc2C(=O)Nc...</td>\n",
              "      <td>intermediate</td>\n",
              "      <td>551.422</td>\n",
              "      <td>4.66310</td>\n",
              "      <td>3.0</td>\n",
              "      <td>5.0</td>\n",
              "      <td>5.677781</td>\n",
              "    </tr>\n",
              "    <tr>\n",
              "      <th>1</th>\n",
              "      <td>CHEMBL294121</td>\n",
              "      <td>CN1CCN=C1c1ccc(C(=O)N2CCN(S(=O)(=O)c3cc4cc(Cl)...</td>\n",
              "      <td>intermediate</td>\n",
              "      <td>485.997</td>\n",
              "      <td>2.66000</td>\n",
              "      <td>1.0</td>\n",
              "      <td>5.0</td>\n",
              "      <td>5.236572</td>\n",
              "    </tr>\n",
              "    <tr>\n",
              "      <th>2</th>\n",
              "      <td>CHEMBL432306</td>\n",
              "      <td>N=C(N)c1cccc(OCCNC(=O)c2ccc(-c3ccccc3S(N)(=O)=...</td>\n",
              "      <td>intermediate</td>\n",
              "      <td>438.509</td>\n",
              "      <td>2.09387</td>\n",
              "      <td>4.0</td>\n",
              "      <td>5.0</td>\n",
              "      <td>5.677781</td>\n",
              "    </tr>\n",
              "    <tr>\n",
              "      <th>3</th>\n",
              "      <td>CHEMBL297835</td>\n",
              "      <td>N=C(N)c1cccc(Oc2ccccc2NC(=O)c2ccc(-c3ccccc3S(N...</td>\n",
              "      <td>active</td>\n",
              "      <td>486.553</td>\n",
              "      <td>4.32967</td>\n",
              "      <td>4.0</td>\n",
              "      <td>5.0</td>\n",
              "      <td>6.602060</td>\n",
              "    </tr>\n",
              "    <tr>\n",
              "      <th>4</th>\n",
              "      <td>CHEMBL10378</td>\n",
              "      <td>O=c1oc(-c2ccccc2I)nc2ccccc12</td>\n",
              "      <td>intermediate</td>\n",
              "      <td>349.127</td>\n",
              "      <td>3.45960</td>\n",
              "      <td>0.0</td>\n",
              "      <td>3.0</td>\n",
              "      <td>5.004804</td>\n",
              "    </tr>\n",
              "    <tr>\n",
              "      <th>...</th>\n",
              "      <td>...</td>\n",
              "      <td>...</td>\n",
              "      <td>...</td>\n",
              "      <td>...</td>\n",
              "      <td>...</td>\n",
              "      <td>...</td>\n",
              "      <td>...</td>\n",
              "      <td>...</td>\n",
              "    </tr>\n",
              "    <tr>\n",
              "      <th>332</th>\n",
              "      <td>CHEMBL3897372</td>\n",
              "      <td>Cc1cc(C)n(Cc2ccc(Cn3cc(C(=O)NCc4c(C)cc(N)nc4C)...</td>\n",
              "      <td>inactive</td>\n",
              "      <td>444.543</td>\n",
              "      <td>2.71208</td>\n",
              "      <td>2.0</td>\n",
              "      <td>8.0</td>\n",
              "      <td>4.397940</td>\n",
              "    </tr>\n",
              "    <tr>\n",
              "      <th>333</th>\n",
              "      <td>CHEMBL5204354</td>\n",
              "      <td>COc1ccnc(CNC(=O)c2cn(Cc3ccc(Cn4ccccc4=O)cc3)nc...</td>\n",
              "      <td>intermediate</td>\n",
              "      <td>515.467</td>\n",
              "      <td>3.63290</td>\n",
              "      <td>1.0</td>\n",
              "      <td>7.0</td>\n",
              "      <td>5.397940</td>\n",
              "    </tr>\n",
              "    <tr>\n",
              "      <th>334</th>\n",
              "      <td>CHEMBL5095064</td>\n",
              "      <td>COCc1nn(Cc2ccc(Cn3cc(F)ccc3=O)cc2)cc1C(=O)NCc1...</td>\n",
              "      <td>inactive</td>\n",
              "      <td>509.513</td>\n",
              "      <td>2.89960</td>\n",
              "      <td>1.0</td>\n",
              "      <td>8.0</td>\n",
              "      <td>4.397940</td>\n",
              "    </tr>\n",
              "    <tr>\n",
              "      <th>335</th>\n",
              "      <td>CHEMBL5276515</td>\n",
              "      <td>Nc1nn(Cc2ccc(Cn3ccccc3=O)cc2)cc1C(=O)NCCOc1ccc...</td>\n",
              "      <td>active</td>\n",
              "      <td>477.952</td>\n",
              "      <td>3.18580</td>\n",
              "      <td>2.0</td>\n",
              "      <td>7.0</td>\n",
              "      <td>8.537602</td>\n",
              "    </tr>\n",
              "    <tr>\n",
              "      <th>336</th>\n",
              "      <td>CHEMBL5277609</td>\n",
              "      <td>CCOc1ccc(C[C@@H](NC(=O)CC)C(=O)N[C@@H](Cc2cccc...</td>\n",
              "      <td>active</td>\n",
              "      <td>530.669</td>\n",
              "      <td>3.02520</td>\n",
              "      <td>4.0</td>\n",
              "      <td>5.0</td>\n",
              "      <td>6.000000</td>\n",
              "    </tr>\n",
              "  </tbody>\n",
              "</table>\n",
              "<p>337 rows × 8 columns</p>\n",
              "</div>"
            ],
            "text/plain": [
              "    molecule_chembl_id                                   canonical_smiles  \\\n",
              "0         CHEMBL174750  NS(=O)(=O)c1ccccc1-c1ccc(C(=O)Nc2ccccc2C(=O)Nc...   \n",
              "1         CHEMBL294121  CN1CCN=C1c1ccc(C(=O)N2CCN(S(=O)(=O)c3cc4cc(Cl)...   \n",
              "2         CHEMBL432306  N=C(N)c1cccc(OCCNC(=O)c2ccc(-c3ccccc3S(N)(=O)=...   \n",
              "3         CHEMBL297835  N=C(N)c1cccc(Oc2ccccc2NC(=O)c2ccc(-c3ccccc3S(N...   \n",
              "4          CHEMBL10378                       O=c1oc(-c2ccccc2I)nc2ccccc12   \n",
              "..                 ...                                                ...   \n",
              "332      CHEMBL3897372  Cc1cc(C)n(Cc2ccc(Cn3cc(C(=O)NCc4c(C)cc(N)nc4C)...   \n",
              "333      CHEMBL5204354  COc1ccnc(CNC(=O)c2cn(Cc3ccc(Cn4ccccc4=O)cc3)nc...   \n",
              "334      CHEMBL5095064  COCc1nn(Cc2ccc(Cn3cc(F)ccc3=O)cc2)cc1C(=O)NCc1...   \n",
              "335      CHEMBL5276515  Nc1nn(Cc2ccc(Cn3ccccc3=O)cc2)cc1C(=O)NCCOc1ccc...   \n",
              "336      CHEMBL5277609  CCOc1ccc(C[C@@H](NC(=O)CC)C(=O)N[C@@H](Cc2cccc...   \n",
              "\n",
              "            class       MW     LogP  NumHDonors  NumHAcceptors     pIC50  \n",
              "0    intermediate  551.422  4.66310         3.0            5.0  5.677781  \n",
              "1    intermediate  485.997  2.66000         1.0            5.0  5.236572  \n",
              "2    intermediate  438.509  2.09387         4.0            5.0  5.677781  \n",
              "3          active  486.553  4.32967         4.0            5.0  6.602060  \n",
              "4    intermediate  349.127  3.45960         0.0            3.0  5.004804  \n",
              "..            ...      ...      ...         ...            ...       ...  \n",
              "332      inactive  444.543  2.71208         2.0            8.0  4.397940  \n",
              "333  intermediate  515.467  3.63290         1.0            7.0  5.397940  \n",
              "334      inactive  509.513  2.89960         1.0            8.0  4.397940  \n",
              "335        active  477.952  3.18580         2.0            7.0  8.537602  \n",
              "336        active  530.669  3.02520         4.0            5.0  6.000000  \n",
              "\n",
              "[337 rows x 8 columns]"
            ]
          },
          "execution_count": 20,
          "metadata": {},
          "output_type": "execute_result"
        }
      ],
      "source": [
        "df_final = pIC50(df_norm)\n",
        "df_final"
      ]
    },
    {
      "cell_type": "code",
      "execution_count": 21,
      "metadata": {
        "colab": {
          "base_uri": "https://localhost:8080/",
          "height": 170
        },
        "colab_type": "code",
        "id": "BoqY53udSTYC",
        "outputId": "13f3b5ff-acf5-4136-b8a3-f494066d4824"
      },
      "outputs": [
        {
          "data": {
            "text/plain": [
              "count    337.000000\n",
              "mean       5.027954\n",
              "std        0.570306\n",
              "min        3.200000\n",
              "25%        4.958607\n",
              "50%        5.000000\n",
              "75%        5.075721\n",
              "max        8.537602\n",
              "Name: pIC50, dtype: float64"
            ]
          },
          "execution_count": 21,
          "metadata": {},
          "output_type": "execute_result"
        }
      ],
      "source": [
        "df_final.pIC50.describe()"
      ]
    },
    {
      "cell_type": "markdown",
      "metadata": {
        "colab_type": "text",
        "id": "TTB-xkOcgwRX"
      },
      "source": [
        "Let's write this to CSV file."
      ]
    },
    {
      "cell_type": "code",
      "execution_count": 22,
      "metadata": {
        "colab": {},
        "colab_type": "code",
        "id": "sbZfHUSOgykw"
      },
      "outputs": [],
      "source": [
        "df_final.to_csv(data_folder + '/' + formatted_target_name + '_04_bioactivity_data_3class_pIC50.csv')"
      ]
    },
    {
      "cell_type": "markdown",
      "metadata": {
        "colab_type": "text",
        "id": "05vHBWvqaQtb"
      },
      "source": [
        "### **Removing the 'intermediate' bioactivity class**\n",
        "Here, we will be removing the ``intermediate`` class from our data set."
      ]
    },
    {
      "cell_type": "code",
      "execution_count": 23,
      "metadata": {
        "colab": {
          "base_uri": "https://localhost:8080/",
          "height": 419
        },
        "colab_type": "code",
        "id": "HmrndhDW3c7Z",
        "outputId": "dbc2255b-ed9c-460c-c12c-1795a735c9e7"
      },
      "outputs": [
        {
          "data": {
            "text/html": [
              "<div>\n",
              "<style scoped>\n",
              "    .dataframe tbody tr th:only-of-type {\n",
              "        vertical-align: middle;\n",
              "    }\n",
              "\n",
              "    .dataframe tbody tr th {\n",
              "        vertical-align: top;\n",
              "    }\n",
              "\n",
              "    .dataframe thead th {\n",
              "        text-align: right;\n",
              "    }\n",
              "</style>\n",
              "<table border=\"1\" class=\"dataframe\">\n",
              "  <thead>\n",
              "    <tr style=\"text-align: right;\">\n",
              "      <th></th>\n",
              "      <th>molecule_chembl_id</th>\n",
              "      <th>canonical_smiles</th>\n",
              "      <th>class</th>\n",
              "      <th>MW</th>\n",
              "      <th>LogP</th>\n",
              "      <th>NumHDonors</th>\n",
              "      <th>NumHAcceptors</th>\n",
              "      <th>pIC50</th>\n",
              "    </tr>\n",
              "  </thead>\n",
              "  <tbody>\n",
              "    <tr>\n",
              "      <th>3</th>\n",
              "      <td>CHEMBL297835</td>\n",
              "      <td>N=C(N)c1cccc(Oc2ccccc2NC(=O)c2ccc(-c3ccccc3S(N...</td>\n",
              "      <td>active</td>\n",
              "      <td>486.553</td>\n",
              "      <td>4.32967</td>\n",
              "      <td>4.0</td>\n",
              "      <td>5.0</td>\n",
              "      <td>6.602060</td>\n",
              "    </tr>\n",
              "    <tr>\n",
              "      <th>5</th>\n",
              "      <td>CHEMBL273264</td>\n",
              "      <td>N=C(N)Nc1ccc(C(=O)Oc2ccc3cc(C(=N)N)ccc3c2)cc1</td>\n",
              "      <td>active</td>\n",
              "      <td>347.378</td>\n",
              "      <td>2.64844</td>\n",
              "      <td>5.0</td>\n",
              "      <td>4.0</td>\n",
              "      <td>6.187087</td>\n",
              "    </tr>\n",
              "    <tr>\n",
              "      <th>6</th>\n",
              "      <td>CHEMBL21052</td>\n",
              "      <td>Cc1cc(C(=O)Nc2ccc(C3=NCCN3C)cc2F)n(-c2cc3ccccc...</td>\n",
              "      <td>inactive</td>\n",
              "      <td>445.473</td>\n",
              "      <td>4.55642</td>\n",
              "      <td>1.0</td>\n",
              "      <td>5.0</td>\n",
              "      <td>5.000000</td>\n",
              "    </tr>\n",
              "    <tr>\n",
              "      <th>7</th>\n",
              "      <td>CHEMBL20918</td>\n",
              "      <td>Cc1cc(C(=O)Nc2ccc(C(=N)N(C)C)cc2F)n(-c2ccc3cc(...</td>\n",
              "      <td>inactive</td>\n",
              "      <td>449.917</td>\n",
              "      <td>5.26569</td>\n",
              "      <td>2.0</td>\n",
              "      <td>4.0</td>\n",
              "      <td>5.000000</td>\n",
              "    </tr>\n",
              "    <tr>\n",
              "      <th>8</th>\n",
              "      <td>CHEMBL279486</td>\n",
              "      <td>CN(C)C(=N)c1ccc(NC(=O)c2cc(C(F)(F)F)nn2-c2cc3c...</td>\n",
              "      <td>inactive</td>\n",
              "      <td>487.432</td>\n",
              "      <td>5.46177</td>\n",
              "      <td>2.0</td>\n",
              "      <td>4.0</td>\n",
              "      <td>5.000000</td>\n",
              "    </tr>\n",
              "    <tr>\n",
              "      <th>...</th>\n",
              "      <td>...</td>\n",
              "      <td>...</td>\n",
              "      <td>...</td>\n",
              "      <td>...</td>\n",
              "      <td>...</td>\n",
              "      <td>...</td>\n",
              "      <td>...</td>\n",
              "      <td>...</td>\n",
              "    </tr>\n",
              "    <tr>\n",
              "      <th>331</th>\n",
              "      <td>CHEMBL3617968</td>\n",
              "      <td>CC(=O)C1=C(C)N(c2cccc(C(F)(F)F)c2)C(=O)N[C@@H]...</td>\n",
              "      <td>inactive</td>\n",
              "      <td>400.360</td>\n",
              "      <td>4.10598</td>\n",
              "      <td>1.0</td>\n",
              "      <td>4.0</td>\n",
              "      <td>4.522879</td>\n",
              "    </tr>\n",
              "    <tr>\n",
              "      <th>332</th>\n",
              "      <td>CHEMBL3897372</td>\n",
              "      <td>Cc1cc(C)n(Cc2ccc(Cn3cc(C(=O)NCc4c(C)cc(N)nc4C)...</td>\n",
              "      <td>inactive</td>\n",
              "      <td>444.543</td>\n",
              "      <td>2.71208</td>\n",
              "      <td>2.0</td>\n",
              "      <td>8.0</td>\n",
              "      <td>4.397940</td>\n",
              "    </tr>\n",
              "    <tr>\n",
              "      <th>334</th>\n",
              "      <td>CHEMBL5095064</td>\n",
              "      <td>COCc1nn(Cc2ccc(Cn3cc(F)ccc3=O)cc2)cc1C(=O)NCc1...</td>\n",
              "      <td>inactive</td>\n",
              "      <td>509.513</td>\n",
              "      <td>2.89960</td>\n",
              "      <td>1.0</td>\n",
              "      <td>8.0</td>\n",
              "      <td>4.397940</td>\n",
              "    </tr>\n",
              "    <tr>\n",
              "      <th>335</th>\n",
              "      <td>CHEMBL5276515</td>\n",
              "      <td>Nc1nn(Cc2ccc(Cn3ccccc3=O)cc2)cc1C(=O)NCCOc1ccc...</td>\n",
              "      <td>active</td>\n",
              "      <td>477.952</td>\n",
              "      <td>3.18580</td>\n",
              "      <td>2.0</td>\n",
              "      <td>7.0</td>\n",
              "      <td>8.537602</td>\n",
              "    </tr>\n",
              "    <tr>\n",
              "      <th>336</th>\n",
              "      <td>CHEMBL5277609</td>\n",
              "      <td>CCOc1ccc(C[C@@H](NC(=O)CC)C(=O)N[C@@H](Cc2cccc...</td>\n",
              "      <td>active</td>\n",
              "      <td>530.669</td>\n",
              "      <td>3.02520</td>\n",
              "      <td>4.0</td>\n",
              "      <td>5.0</td>\n",
              "      <td>6.000000</td>\n",
              "    </tr>\n",
              "  </tbody>\n",
              "</table>\n",
              "<p>256 rows × 8 columns</p>\n",
              "</div>"
            ],
            "text/plain": [
              "    molecule_chembl_id                                   canonical_smiles  \\\n",
              "3         CHEMBL297835  N=C(N)c1cccc(Oc2ccccc2NC(=O)c2ccc(-c3ccccc3S(N...   \n",
              "5         CHEMBL273264      N=C(N)Nc1ccc(C(=O)Oc2ccc3cc(C(=N)N)ccc3c2)cc1   \n",
              "6          CHEMBL21052  Cc1cc(C(=O)Nc2ccc(C3=NCCN3C)cc2F)n(-c2cc3ccccc...   \n",
              "7          CHEMBL20918  Cc1cc(C(=O)Nc2ccc(C(=N)N(C)C)cc2F)n(-c2ccc3cc(...   \n",
              "8         CHEMBL279486  CN(C)C(=N)c1ccc(NC(=O)c2cc(C(F)(F)F)nn2-c2cc3c...   \n",
              "..                 ...                                                ...   \n",
              "331      CHEMBL3617968  CC(=O)C1=C(C)N(c2cccc(C(F)(F)F)c2)C(=O)N[C@@H]...   \n",
              "332      CHEMBL3897372  Cc1cc(C)n(Cc2ccc(Cn3cc(C(=O)NCc4c(C)cc(N)nc4C)...   \n",
              "334      CHEMBL5095064  COCc1nn(Cc2ccc(Cn3cc(F)ccc3=O)cc2)cc1C(=O)NCc1...   \n",
              "335      CHEMBL5276515  Nc1nn(Cc2ccc(Cn3ccccc3=O)cc2)cc1C(=O)NCCOc1ccc...   \n",
              "336      CHEMBL5277609  CCOc1ccc(C[C@@H](NC(=O)CC)C(=O)N[C@@H](Cc2cccc...   \n",
              "\n",
              "        class       MW     LogP  NumHDonors  NumHAcceptors     pIC50  \n",
              "3      active  486.553  4.32967         4.0            5.0  6.602060  \n",
              "5      active  347.378  2.64844         5.0            4.0  6.187087  \n",
              "6    inactive  445.473  4.55642         1.0            5.0  5.000000  \n",
              "7    inactive  449.917  5.26569         2.0            4.0  5.000000  \n",
              "8    inactive  487.432  5.46177         2.0            4.0  5.000000  \n",
              "..        ...      ...      ...         ...            ...       ...  \n",
              "331  inactive  400.360  4.10598         1.0            4.0  4.522879  \n",
              "332  inactive  444.543  2.71208         2.0            8.0  4.397940  \n",
              "334  inactive  509.513  2.89960         1.0            8.0  4.397940  \n",
              "335    active  477.952  3.18580         2.0            7.0  8.537602  \n",
              "336    active  530.669  3.02520         4.0            5.0  6.000000  \n",
              "\n",
              "[256 rows x 8 columns]"
            ]
          },
          "execution_count": 23,
          "metadata": {},
          "output_type": "execute_result"
        }
      ],
      "source": [
        "df_2class = df_final[df_final['class'] != 'intermediate']\n",
        "df_2class"
      ]
    },
    {
      "cell_type": "markdown",
      "metadata": {
        "colab_type": "text",
        "id": "GJGRNXXigd1o"
      },
      "source": [
        "Let's write this to CSV file."
      ]
    },
    {
      "cell_type": "code",
      "execution_count": 24,
      "metadata": {
        "colab": {},
        "colab_type": "code",
        "id": "XIiYdeL5ghCo"
      },
      "outputs": [],
      "source": [
        "df_2class.to_csv(data_folder + '/' + formatted_target_name + '_05_bioactivity_data_2class_pIC50.csv')"
      ]
    },
    {
      "cell_type": "markdown",
      "metadata": {
        "colab_type": "text",
        "id": "p9vA4-hQQ8sA"
      },
      "source": [
        "---"
      ]
    },
    {
      "cell_type": "markdown",
      "metadata": {
        "colab_type": "text",
        "id": "x0vqbQWfxsZu"
      },
      "source": [
        "## **Exploratory Data Analysis (Chemical Space Analysis) via Lipinski descriptors**"
      ]
    },
    {
      "cell_type": "markdown",
      "metadata": {
        "colab_type": "text",
        "id": "18heJagiyHoF"
      },
      "source": [
        "### **Import library**"
      ]
    },
    {
      "cell_type": "code",
      "execution_count": 25,
      "metadata": {
        "colab": {
          "base_uri": "https://localhost:8080/",
          "height": 51
        },
        "colab_type": "code",
        "id": "0Egq_rNsxtIj",
        "outputId": "33657ad8-3fcc-41cd-83ab-6f4f8c0a9e84"
      },
      "outputs": [],
      "source": [
        "import seaborn as sns\n",
        "sns.set(style='ticks')\n",
        "import matplotlib.pyplot as plt"
      ]
    },
    {
      "cell_type": "markdown",
      "metadata": {
        "colab_type": "text",
        "id": "NiarmFbOdG3H"
      },
      "source": [
        "### **Frequency plot of the 2 bioactivity classes**"
      ]
    },
    {
      "cell_type": "code",
      "execution_count": 26,
      "metadata": {
        "colab": {
          "base_uri": "https://localhost:8080/",
          "height": 367
        },
        "colab_type": "code",
        "id": "w2Ia0iycdMO2",
        "outputId": "fa37bcfd-af06-4e4b-c754-b6fb2b1b4f97"
      },
      "outputs": [
        {
          "data": {
            "image/png": "[encoded data removed]",
            "text/plain": [
              "<Figure size 550x550 with 1 Axes>"
            ]
          },
          "metadata": {},
          "output_type": "display_data"
        }
      ],
      "source": [
        "plt.figure(figsize=(5.5, 5.5))\n",
        "\n",
        "sns.countplot(x='class', data=df_2class, edgecolor='black')\n",
        "\n",
        "plt.xlabel('Bioactivity class', fontsize=14, fontweight='bold')\n",
        "plt.ylabel('Frequency', fontsize=14, fontweight='bold')\n",
        "\n",
        "plt.savefig('plots/frequency_plot_bioactivity_class.png')"
      ]
    },
    {
      "cell_type": "markdown",
      "metadata": {
        "colab_type": "text",
        "id": "wB68NKVG0j68"
      },
      "source": [
        "### **Scatter plot of MW versus LogP**\n",
        "\n",
        "It can be seen that the 2 bioactivity classes are spanning similar chemical spaces as evident by the scatter plot of MW vs LogP."
      ]
    },
    {
      "cell_type": "code",
      "execution_count": 27,
      "metadata": {
        "colab": {
          "base_uri": "https://localhost:8080/",
          "height": 367
        },
        "colab_type": "code",
        "id": "F79BNwjF0nub",
        "outputId": "a80f9843-848a-4eb0-ff78-e9473d5d2d4b"
      },
      "outputs": [
        {
          "data": {
            "image/png": "[encoded data removed]",
            "text/plain": [
              "<Figure size 550x550 with 1 Axes>"
            ]
          },
          "metadata": {},
          "output_type": "display_data"
        }
      ],
      "source": [
        "plt.figure(figsize=(5.5, 5.5))\n",
        "\n",
        "sns.scatterplot(x='MW', y='LogP', data=df_2class, hue='class', size='pIC50', edgecolor='black', alpha=0.7)\n",
        "\n",
        "plt.xlabel('MW', fontsize=14, fontweight='bold')\n",
        "plt.ylabel('LogP', fontsize=14, fontweight='bold')\n",
        "plt.legend(bbox_to_anchor=(1.05, 1), loc=2, borderaxespad=0)\n",
        "plt.savefig('plots/scatter_plot_MW_vs_LogP.png')"
      ]
    },
    {
      "cell_type": "markdown",
      "metadata": {
        "colab_type": "text",
        "id": "oLAfyRwHyJfX"
      },
      "source": [
        "### **Box plots**"
      ]
    },
    {
      "cell_type": "markdown",
      "metadata": {
        "colab_type": "text",
        "id": "1n1uIAivyOkY"
      },
      "source": [
        "#### **pIC50 value**"
      ]
    },
    {
      "cell_type": "code",
      "execution_count": 28,
      "metadata": {
        "colab": {
          "base_uri": "https://localhost:8080/",
          "height": 367
        },
        "colab_type": "code",
        "id": "EpPviw0hxue6",
        "outputId": "a6386fee-ae04-4bf0-93cb-c95bcf801432"
      },
      "outputs": [
        {
          "data": {
            "image/png": "[encoded data removed]",
            "text/plain": [
              "<Figure size 550x550 with 1 Axes>"
            ]
          },
          "metadata": {},
          "output_type": "display_data"
        }
      ],
      "source": [
        "plt.figure(figsize=(5.5, 5.5))\n",
        "\n",
        "sns.boxplot(x = 'class', y = 'pIC50', data = df_2class)\n",
        "\n",
        "plt.xlabel('Bioactivity class', fontsize=14, fontweight='bold')\n",
        "plt.ylabel('pIC50 value', fontsize=14, fontweight='bold')\n",
        "\n",
        "plt.savefig('plots/box_plot_pIC50.png')"
      ]
    },
    {
      "cell_type": "markdown",
      "metadata": {
        "colab_type": "text",
        "id": "PsOqKyysCZCv"
      },
      "source": [
        "**Statistical analysis | Mann-Whitney U Test**"
      ]
    },
    {
      "cell_type": "code",
      "execution_count": 29,
      "metadata": {
        "colab": {},
        "colab_type": "code",
        "id": "LPdV1vDnWBsh"
      },
      "outputs": [],
      "source": [
        "def mannwhitney(descriptor, verbose=False):\n",
        "  # https://machinelearningmastery.com/nonparametric-statistical-significance-tests-in-python/\n",
        "  from numpy.random import seed\n",
        "  from numpy.random import randn\n",
        "  from scipy.stats import mannwhitneyu\n",
        "\n",
        "# seed the random number generator\n",
        "  seed(1)\n",
        "\n",
        "# actives and inactives\n",
        "  selection = [descriptor, 'class']\n",
        "  df = df_2class[selection]\n",
        "  active = df[df['class'] == 'active']\n",
        "  active = active[descriptor]\n",
        "\n",
        "  selection = [descriptor, 'class']\n",
        "  df = df_2class[selection]\n",
        "  inactive = df[df['class'] == 'inactive']\n",
        "  inactive = inactive[descriptor]\n",
        "\n",
        "# compare samples\n",
        "  stat, p = mannwhitneyu(active, inactive)\n",
        "  #print('Statistics=%.3f, p=%.3f' % (stat, p))\n",
        "\n",
        "# interpret\n",
        "  alpha = 0.05\n",
        "  if p > alpha:\n",
        "    interpretation = 'Same distribution (fail to reject H0)'\n",
        "  else:\n",
        "    interpretation = 'Different distribution (reject H0)'\n",
        "  \n",
        "  results = pd.DataFrame({'Descriptor':descriptor,\n",
        "                          'Statistics':stat,\n",
        "                          'p':p,\n",
        "                          'alpha':alpha,\n",
        "                          'Interpretation':interpretation}, index=[0])\n",
        "  filename = 'data/mannwhitneyu_' + descriptor + '.csv'\n",
        "  results.to_csv(filename)\n",
        "\n",
        "  return results"
      ]
    },
    {
      "cell_type": "code",
      "execution_count": 30,
      "metadata": {
        "colab": {
          "base_uri": "https://localhost:8080/",
          "height": 80
        },
        "colab_type": "code",
        "id": "HZmUgOmdYVm5",
        "outputId": "3a9ba656-596c-434a-e52f-5696325cd4e7"
      },
      "outputs": [
        {
          "data": {
            "text/html": [
              "<div>\n",
              "<style scoped>\n",
              "    .dataframe tbody tr th:only-of-type {\n",
              "        vertical-align: middle;\n",
              "    }\n",
              "\n",
              "    .dataframe tbody tr th {\n",
              "        vertical-align: top;\n",
              "    }\n",
              "\n",
              "    .dataframe thead th {\n",
              "        text-align: right;\n",
              "    }\n",
              "</style>\n",
              "<table border=\"1\" class=\"dataframe\">\n",
              "  <thead>\n",
              "    <tr style=\"text-align: right;\">\n",
              "      <th></th>\n",
              "      <th>Descriptor</th>\n",
              "      <th>Statistics</th>\n",
              "      <th>p</th>\n",
              "      <th>alpha</th>\n",
              "      <th>Interpretation</th>\n",
              "    </tr>\n",
              "  </thead>\n",
              "  <tbody>\n",
              "    <tr>\n",
              "      <th>0</th>\n",
              "      <td>pIC50</td>\n",
              "      <td>4935.0</td>\n",
              "      <td>2.021284e-17</td>\n",
              "      <td>0.05</td>\n",
              "      <td>Different distribution (reject H0)</td>\n",
              "    </tr>\n",
              "  </tbody>\n",
              "</table>\n",
              "</div>"
            ],
            "text/plain": [
              "  Descriptor  Statistics             p  alpha  \\\n",
              "0      pIC50      4935.0  2.021284e-17   0.05   \n",
              "\n",
              "                       Interpretation  \n",
              "0  Different distribution (reject H0)  "
            ]
          },
          "execution_count": 30,
          "metadata": {},
          "output_type": "execute_result"
        }
      ],
      "source": [
        "mannwhitney('pIC50')"
      ]
    },
    {
      "cell_type": "markdown",
      "metadata": {
        "colab_type": "text",
        "id": "o2UlCwPmyTBq"
      },
      "source": [
        "#### **MW**"
      ]
    },
    {
      "cell_type": "code",
      "execution_count": 31,
      "metadata": {
        "colab": {
          "base_uri": "https://localhost:8080/",
          "height": 370
        },
        "colab_type": "code",
        "id": "ZNlEEsDEx3m6",
        "outputId": "819f291c-d893-4ff6-f4ca-28b46351e999"
      },
      "outputs": [
        {
          "data": {
            "image/png": "[encoded data removed]",
            "text/plain": [
              "<Figure size 550x550 with 1 Axes>"
            ]
          },
          "metadata": {},
          "output_type": "display_data"
        }
      ],
      "source": [
        "plt.figure(figsize=(5.5, 5.5))\n",
        "\n",
        "sns.boxplot(x = 'class', y = 'MW', data = df_2class)\n",
        "\n",
        "plt.xlabel('Bioactivity class', fontsize=14, fontweight='bold')\n",
        "plt.ylabel('MW', fontsize=14, fontweight='bold')\n",
        "\n",
        "plt.savefig('plots/box_plot_MW.png')"
      ]
    },
    {
      "cell_type": "code",
      "execution_count": 32,
      "metadata": {
        "colab": {
          "base_uri": "https://localhost:8080/",
          "height": 80
        },
        "colab_type": "code",
        "id": "wRl2FvgHYqaG",
        "outputId": "01f76db8-fdaf-40af-9161-888f5065b07b"
      },
      "outputs": [
        {
          "data": {
            "text/html": [
              "<div>\n",
              "<style scoped>\n",
              "    .dataframe tbody tr th:only-of-type {\n",
              "        vertical-align: middle;\n",
              "    }\n",
              "\n",
              "    .dataframe tbody tr th {\n",
              "        vertical-align: top;\n",
              "    }\n",
              "\n",
              "    .dataframe thead th {\n",
              "        text-align: right;\n",
              "    }\n",
              "</style>\n",
              "<table border=\"1\" class=\"dataframe\">\n",
              "  <thead>\n",
              "    <tr style=\"text-align: right;\">\n",
              "      <th></th>\n",
              "      <th>Descriptor</th>\n",
              "      <th>Statistics</th>\n",
              "      <th>p</th>\n",
              "      <th>alpha</th>\n",
              "      <th>Interpretation</th>\n",
              "    </tr>\n",
              "  </thead>\n",
              "  <tbody>\n",
              "    <tr>\n",
              "      <th>0</th>\n",
              "      <td>MW</td>\n",
              "      <td>1268.5</td>\n",
              "      <td>0.000227</td>\n",
              "      <td>0.05</td>\n",
              "      <td>Different distribution (reject H0)</td>\n",
              "    </tr>\n",
              "  </tbody>\n",
              "</table>\n",
              "</div>"
            ],
            "text/plain": [
              "  Descriptor  Statistics         p  alpha                      Interpretation\n",
              "0         MW      1268.5  0.000227   0.05  Different distribution (reject H0)"
            ]
          },
          "execution_count": 32,
          "metadata": {},
          "output_type": "execute_result"
        }
      ],
      "source": [
        "mannwhitney('MW')"
      ]
    },
    {
      "cell_type": "markdown",
      "metadata": {
        "colab_type": "text",
        "id": "z5hyBhGqyc6J"
      },
      "source": [
        "#### **LogP**"
      ]
    },
    {
      "cell_type": "code",
      "execution_count": 33,
      "metadata": {
        "colab": {
          "base_uri": "https://localhost:8080/",
          "height": 367
        },
        "colab_type": "code",
        "id": "liEtkpI4yX9t",
        "outputId": "63ed7b14-b112-44d5-8f0d-8fe017ec0d43"
      },
      "outputs": [
        {
          "data": {
            "image/png": "[encoded data removed]",
            "text/plain": [
              "<Figure size 550x550 with 1 Axes>"
            ]
          },
          "metadata": {},
          "output_type": "display_data"
        }
      ],
      "source": [
        "plt.figure(figsize=(5.5, 5.5))\n",
        "\n",
        "sns.boxplot(x = 'class', y = 'LogP', data = df_2class)\n",
        "\n",
        "plt.xlabel('Bioactivity class', fontsize=14, fontweight='bold')\n",
        "plt.ylabel('LogP', fontsize=14, fontweight='bold')\n",
        "\n",
        "plt.savefig('plots/box_plot_LogP.png')"
      ]
    },
    {
      "cell_type": "markdown",
      "metadata": {
        "colab_type": "text",
        "id": "2KgV5v_oFLXh"
      },
      "source": [
        "**Statistical analysis | Mann-Whitney U Test**"
      ]
    },
    {
      "cell_type": "code",
      "execution_count": 34,
      "metadata": {
        "colab": {
          "base_uri": "https://localhost:8080/",
          "height": 80
        },
        "colab_type": "code",
        "id": "B61UsGMIFLuE",
        "outputId": "3fd097e7-7a4a-4c6e-bc0c-af010caac7b2"
      },
      "outputs": [
        {
          "data": {
            "text/html": [
              "<div>\n",
              "<style scoped>\n",
              "    .dataframe tbody tr th:only-of-type {\n",
              "        vertical-align: middle;\n",
              "    }\n",
              "\n",
              "    .dataframe tbody tr th {\n",
              "        vertical-align: top;\n",
              "    }\n",
              "\n",
              "    .dataframe thead th {\n",
              "        text-align: right;\n",
              "    }\n",
              "</style>\n",
              "<table border=\"1\" class=\"dataframe\">\n",
              "  <thead>\n",
              "    <tr style=\"text-align: right;\">\n",
              "      <th></th>\n",
              "      <th>Descriptor</th>\n",
              "      <th>Statistics</th>\n",
              "      <th>p</th>\n",
              "      <th>alpha</th>\n",
              "      <th>Interpretation</th>\n",
              "    </tr>\n",
              "  </thead>\n",
              "  <tbody>\n",
              "    <tr>\n",
              "      <th>0</th>\n",
              "      <td>LogP</td>\n",
              "      <td>1893.0</td>\n",
              "      <td>0.077453</td>\n",
              "      <td>0.05</td>\n",
              "      <td>Same distribution (fail to reject H0)</td>\n",
              "    </tr>\n",
              "  </tbody>\n",
              "</table>\n",
              "</div>"
            ],
            "text/plain": [
              "  Descriptor  Statistics         p  alpha  \\\n",
              "0       LogP      1893.0  0.077453   0.05   \n",
              "\n",
              "                          Interpretation  \n",
              "0  Same distribution (fail to reject H0)  "
            ]
          },
          "execution_count": 34,
          "metadata": {},
          "output_type": "execute_result"
        }
      ],
      "source": [
        "mannwhitney('LogP')"
      ]
    },
    {
      "cell_type": "markdown",
      "metadata": {
        "colab_type": "text",
        "id": "4db7LZLRym2k"
      },
      "source": [
        "#### **NumHDonors**"
      ]
    },
    {
      "cell_type": "code",
      "execution_count": 35,
      "metadata": {
        "colab": {
          "base_uri": "https://localhost:8080/",
          "height": 367
        },
        "colab_type": "code",
        "id": "iru1JPM1yg5A",
        "outputId": "838b8622-b34a-4f93-bec1-9df19fc9f571"
      },
      "outputs": [
        {
          "data": {
            "image/png": "[encoded data removed]",
            "text/plain": [
              "<Figure size 550x550 with 1 Axes>"
            ]
          },
          "metadata": {},
          "output_type": "display_data"
        }
      ],
      "source": [
        "plt.figure(figsize=(5.5, 5.5))\n",
        "\n",
        "sns.boxplot(x = 'class', y = 'NumHDonors', data = df_2class)\n",
        "\n",
        "plt.xlabel('Bioactivity class', fontsize=14, fontweight='bold')\n",
        "plt.ylabel('NumHDonors', fontsize=14, fontweight='bold')\n",
        "\n",
        "plt.savefig('plots/box_plot_NumHDonors.png')"
      ]
    },
    {
      "cell_type": "markdown",
      "metadata": {
        "colab_type": "text",
        "id": "vM5vZWanFe3c"
      },
      "source": [
        "**Statistical analysis | Mann-Whitney U Test**"
      ]
    },
    {
      "cell_type": "code",
      "execution_count": 36,
      "metadata": {
        "colab": {
          "base_uri": "https://localhost:8080/",
          "height": 80
        },
        "colab_type": "code",
        "id": "mS-rOqq7Fd1E",
        "outputId": "d6e88523-ae95-4298-8550-f840fd8b5a36"
      },
      "outputs": [
        {
          "data": {
            "text/html": [
              "<div>\n",
              "<style scoped>\n",
              "    .dataframe tbody tr th:only-of-type {\n",
              "        vertical-align: middle;\n",
              "    }\n",
              "\n",
              "    .dataframe tbody tr th {\n",
              "        vertical-align: top;\n",
              "    }\n",
              "\n",
              "    .dataframe thead th {\n",
              "        text-align: right;\n",
              "    }\n",
              "</style>\n",
              "<table border=\"1\" class=\"dataframe\">\n",
              "  <thead>\n",
              "    <tr style=\"text-align: right;\">\n",
              "      <th></th>\n",
              "      <th>Descriptor</th>\n",
              "      <th>Statistics</th>\n",
              "      <th>p</th>\n",
              "      <th>alpha</th>\n",
              "      <th>Interpretation</th>\n",
              "    </tr>\n",
              "  </thead>\n",
              "  <tbody>\n",
              "    <tr>\n",
              "      <th>0</th>\n",
              "      <td>NumHDonors</td>\n",
              "      <td>2251.0</td>\n",
              "      <td>0.466117</td>\n",
              "      <td>0.05</td>\n",
              "      <td>Same distribution (fail to reject H0)</td>\n",
              "    </tr>\n",
              "  </tbody>\n",
              "</table>\n",
              "</div>"
            ],
            "text/plain": [
              "   Descriptor  Statistics         p  alpha  \\\n",
              "0  NumHDonors      2251.0  0.466117   0.05   \n",
              "\n",
              "                          Interpretation  \n",
              "0  Same distribution (fail to reject H0)  "
            ]
          },
          "execution_count": 36,
          "metadata": {},
          "output_type": "execute_result"
        }
      ],
      "source": [
        "mannwhitney('NumHDonors')"
      ]
    },
    {
      "cell_type": "markdown",
      "metadata": {
        "colab_type": "text",
        "id": "yOYQ3QiSyu7-"
      },
      "source": [
        "#### **NumHAcceptors**"
      ]
    },
    {
      "cell_type": "code",
      "execution_count": 37,
      "metadata": {
        "colab": {
          "base_uri": "https://localhost:8080/",
          "height": 367
        },
        "colab_type": "code",
        "id": "yCw6tgNCyxHf",
        "outputId": "3de01d96-1e31-4f95-8084-907f15901106"
      },
      "outputs": [
        {
          "data": {
            "image/png": "[encoded data removed]",
            "text/plain": [
              "<Figure size 550x550 with 1 Axes>"
            ]
          },
          "metadata": {},
          "output_type": "display_data"
        }
      ],
      "source": [
        "plt.figure(figsize=(5.5, 5.5))\n",
        "\n",
        "sns.boxplot(x = 'class', y = 'NumHAcceptors', data = df_2class)\n",
        "\n",
        "plt.xlabel('Bioactivity class', fontsize=14, fontweight='bold')\n",
        "plt.ylabel('NumHAcceptors', fontsize=14, fontweight='bold')\n",
        "\n",
        "plt.savefig('plots/box_plot_NumHAcceptors.png')"
      ]
    },
    {
      "cell_type": "code",
      "execution_count": 38,
      "metadata": {
        "colab": {
          "base_uri": "https://localhost:8080/",
          "height": 80
        },
        "colab_type": "code",
        "id": "NEQoDZctFtGG",
        "outputId": "417d0d17-81f6-438f-dae4-70083b319b85"
      },
      "outputs": [
        {
          "data": {
            "text/html": [
              "<div>\n",
              "<style scoped>\n",
              "    .dataframe tbody tr th:only-of-type {\n",
              "        vertical-align: middle;\n",
              "    }\n",
              "\n",
              "    .dataframe tbody tr th {\n",
              "        vertical-align: top;\n",
              "    }\n",
              "\n",
              "    .dataframe thead th {\n",
              "        text-align: right;\n",
              "    }\n",
              "</style>\n",
              "<table border=\"1\" class=\"dataframe\">\n",
              "  <thead>\n",
              "    <tr style=\"text-align: right;\">\n",
              "      <th></th>\n",
              "      <th>Descriptor</th>\n",
              "      <th>Statistics</th>\n",
              "      <th>p</th>\n",
              "      <th>alpha</th>\n",
              "      <th>Interpretation</th>\n",
              "    </tr>\n",
              "  </thead>\n",
              "  <tbody>\n",
              "    <tr>\n",
              "      <th>0</th>\n",
              "      <td>NumHAcceptors</td>\n",
              "      <td>1763.0</td>\n",
              "      <td>0.024783</td>\n",
              "      <td>0.05</td>\n",
              "      <td>Different distribution (reject H0)</td>\n",
              "    </tr>\n",
              "  </tbody>\n",
              "</table>\n",
              "</div>"
            ],
            "text/plain": [
              "      Descriptor  Statistics         p  alpha  \\\n",
              "0  NumHAcceptors      1763.0  0.024783   0.05   \n",
              "\n",
              "                       Interpretation  \n",
              "0  Different distribution (reject H0)  "
            ]
          },
          "execution_count": 38,
          "metadata": {},
          "output_type": "execute_result"
        }
      ],
      "source": [
        "mannwhitney('NumHAcceptors')"
      ]
    },
    {
      "cell_type": "markdown",
      "metadata": {
        "colab_type": "text",
        "id": "p4QjdHVjKYum"
      },
      "source": [
        "#### **Interpretation of Statistical Results**"
      ]
    },
    {
      "cell_type": "markdown",
      "metadata": {
        "colab_type": "text",
        "id": "mSoOBIqfLbDs"
      },
      "source": [
        "##### **Box Plots**\n",
        "\n",
        "###### **pIC50 values**\n",
        "\n",
        "Taking a look at pIC50 values, the **actives** and **inactives** displayed ***statistically significant difference***, which is to be expected since threshold values (``IC50 < 1,000 nM = Actives while IC50 > 10,000 nM = Inactives``, corresponding to ``pIC50 > 6 = Actives and pIC50 < 5 = Inactives``) were used to define actives and inactives.\n",
        "\n",
        "###### **Lipinski's descriptors**\n",
        "\n",
        "All of the 4 Lipinski's descriptors exhibited ***statistically significant difference*** between the **actives** and **inactives**."
      ]
    },
    {
      "cell_type": "markdown",
      "metadata": {
        "colab_type": "text",
        "id": "U-rK8l0wWnKK"
      },
      "source": [
        "## **Zip files**"
      ]
    },
    {
      "cell_type": "code",
      "execution_count": 39,
      "metadata": {
        "colab": {
          "base_uri": "https://localhost:8080/",
          "height": 272
        },
        "colab_type": "code",
        "id": "GW1ZSsfJWqbM",
        "outputId": "cee2f037-c743-4059-9822-c87eba3f0c51"
      },
      "outputs": [],
      "source": [
        "# ! zip -r results.zip . -i *.csv *.pdf"
      ]
    },
    {
      "cell_type": "code",
      "execution_count": null,
      "metadata": {
        "colab": {},
        "colab_type": "code",
        "id": "LMWOG2UIXEg-"
      },
      "outputs": [],
      "source": []
    }
  ],
  "metadata": {
    "colab": {
      "collapsed_sections": [],
      "name": "CDD-ML-Part-2-Exploratory-Data-Analysis-Acetylcholinesterase.ipynb",
      "provenance": []
    },
    "kernelspec": {
      "display_name": "bioinformatics",
      "language": "python",
      "name": "python3"
    },
    "language_info": {
      "codemirror_mode": {
        "name": "ipython",
        "version": 3
      },
      "file_extension": ".py",
      "mimetype": "text/x-python",
      "name": "python",
      "nbconvert_exporter": "python",
      "pygments_lexer": "ipython3",
      "version": "3.13.1"
    }
  },
  "nbformat": 4,
  "nbformat_minor": 0
}
